{
 "cells": [
  {
   "cell_type": "code",
   "execution_count": 3,
   "id": "49248deb-9bfd-4823-956d-91f776c6e98d",
   "metadata": {},
   "outputs": [
    {
     "name": "stdout",
     "output_type": "stream",
     "text": [
      "['g9' 'Yes' '?' 'Good' '?' '?']\n"
     ]
    }
   ],
   "source": [
    "import pandas as pd \n",
    "import numpy as np \n",
    "\n",
    "# Load the dataset\n",
    "data = pd.read_csv('FindS2.csv') \n",
    " \n",
    "# Extract features (concepts) and target from the dataset\n",
    "concepts = np.array(data)[:, :-1]  # All rows, all columns except the last\n",
    "target = np.array(data)[:, -1]    # All rows, only the last column (target)\n",
    "\n",
    "# Define the Find-S training function\n",
    "def train(concepts, target): \n",
    "    specific_h = None  \n",
    "    # Find the first positive example to initialize the specific hypothesis\n",
    "    for i, val in enumerate(target): \n",
    "        if val == 'Yes': \n",
    "            specific_h = concepts[i].copy()  # Copy the first positive example\n",
    "            break\n",
    "    \n",
    "    if specific_h is None: \n",
    "        return \"No positive examples found\" \n",
    "         \n",
    "    # Iterate over the concepts to refine the specific hypothesis\n",
    "    for i, val in enumerate(concepts): \n",
    "        if target[i] == 'Yes':\n",
    "            for x in range(len(specific_h)): \n",
    "                # Generalize the specific hypothesis when attributes differ\n",
    "                if val[x] != specific_h[x]: \n",
    "                    specific_h[x] = '?'\n",
    "                else:\n",
    "                    pass\n",
    "    return specific_h  # Return the final specific hypothesis\n",
    "\n",
    "print(train(concepts, target))"
   ]
  }
 ],
 "metadata": {
  "kernelspec": {
   "display_name": "Python 3 (ipykernel)",
   "language": "python",
   "name": "python3"
  },
  "language_info": {
   "codemirror_mode": {
    "name": "ipython",
    "version": 3
   },
   "file_extension": ".py",
   "mimetype": "text/x-python",
   "name": "python",
   "nbconvert_exporter": "python",
   "pygments_lexer": "ipython3",
   "version": "3.11.5"
  }
 },
 "nbformat": 4,
 "nbformat_minor": 5
}
